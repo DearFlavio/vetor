{
  "nbformat": 4,
  "nbformat_minor": 0,
  "metadata": {
    "colab": {
      "provenance": [],
      "authorship_tag": "ABX9TyOaZe7XOg0hyIacqBObcLDy",
      "include_colab_link": true
    },
    "kernelspec": {
      "name": "python3",
      "display_name": "Python 3"
    },
    "language_info": {
      "name": "python"
    }
  },
  "cells": [
    {
      "cell_type": "markdown",
      "metadata": {
        "id": "view-in-github",
        "colab_type": "text"
      },
      "source": [
        "<a href=\"https://colab.research.google.com/github/DearFlavio/vetor/blob/main/Untitled0.ipynb\" target=\"_parent\"><img src=\"https://colab.research.google.com/assets/colab-badge.svg\" alt=\"Open In Colab\"/></a>"
      ]
    },
    {
      "cell_type": "code",
      "execution_count": 1,
      "metadata": {
        "colab": {
          "base_uri": "https://localhost:8080/"
        },
        "id": "xEFVNETDQ8CP",
        "outputId": "f17cdad0-7755-412e-84fe-127c83985a30"
      },
      "outputs": [
        {
          "output_type": "stream",
          "name": "stdout",
          "text": [
            "[181, 100, 40]\n"
          ]
        }
      ],
      "source": [
        "#Aula Vetores d1_altura, d2_peso e d3_idade\n",
        "imc = [181, 100, 40] \n",
        "print(imc)"
      ]
    },
    {
      "cell_type": "code",
      "source": [
        "# Vetor de notas n1, n2, n3 e n4\n",
        "\n",
        "notas = [10, 9, 8, 5]\n",
        "print(notas)"
      ],
      "metadata": {
        "colab": {
          "base_uri": "https://localhost:8080/"
        },
        "id": "cQzfoIGWROxA",
        "outputId": "ca8d57b6-cbc4-40e4-ac5e-052bd5d2b525"
      },
      "execution_count": 2,
      "outputs": [
        {
          "output_type": "stream",
          "name": "stdout",
          "text": [
            "[10, 9, 8, 5]\n"
          ]
        }
      ]
    },
    {
      "cell_type": "code",
      "source": [
        "# Notas do primeiro semestre\n",
        "semestre1 = [8, 7, 9, 6]\n",
        "\n",
        "# Notas do segundo semestre\n",
        "semestre2 = [6, 7, 8, 9]\n",
        "\n",
        "\n",
        "def calcular_media(notas):\n",
        "    soma = sum(notas)\n",
        "    media = soma / len(notas)\n",
        "    return media\n",
        "\n",
        "\n",
        "media_semestre1 = calcular_media(semestre1)\n",
        "media_semestre2 = calcular_media(semestre2)\n",
        "\n",
        "\n",
        "media_final = (media_semestre1 + media_semestre2) / 2\n",
        "\n",
        "print(\"Média final do estudante:\", media_final)\n"
      ],
      "metadata": {
        "colab": {
          "base_uri": "https://localhost:8080/"
        },
        "id": "BIpw4Oo0Zbty",
        "outputId": "5b4e5c01-17c6-46a1-9586-14dab0a0a1d8"
      },
      "execution_count": 22,
      "outputs": [
        {
          "output_type": "stream",
          "name": "stdout",
          "text": [
            "Média final do estudante: 7.5\n"
          ]
        }
      ]
    },
    {
      "cell_type": "code",
      "source": [
        "semestre1  =[10,8,7,6]\n",
        "semestre2  =[6,7,8,9]\n",
        "\n",
        "\n",
        "def calcular_media(notas):\n",
        "  soma = sum(notas)\n",
        "  media = soma / len(notas)\n",
        "  return media\n",
        "\n",
        "  media_semestre1 = calcular_media(semestre1)\n",
        "  media_semestre2 = calcular_media(semestre2)\n",
        "\n",
        "  media_final = (media_semestre1 + media_semestre2) /2\n",
        "\n",
        "\n",
        "print(\"media final do estudante:\",media_final)\n"
      ],
      "metadata": {
        "colab": {
          "base_uri": "https://localhost:8080/"
        },
        "id": "orvwwQyvk26N",
        "outputId": "4a5ec9be-b59e-427c-a2f6-7b53fe477b21"
      },
      "execution_count": 59,
      "outputs": [
        {
          "output_type": "stream",
          "name": "stdout",
          "text": [
            "media final do estudante: 7.5\n"
          ]
        }
      ]
    }
  ]
}